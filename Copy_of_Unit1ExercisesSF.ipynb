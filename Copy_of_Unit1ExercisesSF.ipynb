{
  "nbformat": 4,
  "nbformat_minor": 0,
  "metadata": {
    "colab": {
      "provenance": [],
      "include_colab_link": true
    },
    "kernelspec": {
      "name": "python3",
      "display_name": "Python 3"
    },
    "language_info": {
      "name": "python"
    }
  },
  "cells": [
    {
      "cell_type": "markdown",
      "metadata": {
        "id": "view-in-github",
        "colab_type": "text"
      },
      "source": [
        "<a href=\"https://colab.research.google.com/github/zoetice/Unit-1/blob/main/Copy_of_Unit1ExercisesSF.ipynb\" target=\"_parent\"><img src=\"https://colab.research.google.com/assets/colab-badge.svg\" alt=\"Open In Colab\"/></a>"
      ]
    },
    {
      "cell_type": "markdown",
      "source": [
        "# Unit 1 Exercises: Data Structure Concepts\n",
        "\n",
        "The following questions will ask you to describe the various objects we learned about in the first Unit.\n",
        "\n",
        "I'm not giving you coding exercises, because we will learn all the coding technqiues we need as we move through the course.\n",
        "\n",
        "What I do need from you right now, is a conceptual understanding how how data is stored in our computer, when we use python."
      ],
      "metadata": {
        "id": "65OCktLjbZmA"
      }
    },
    {
      "cell_type": "markdown",
      "source": [
        "**Task1**:\n",
        "\n",
        "Describe the similarities and differences between an int and a float in python."
      ],
      "metadata": {
        "id": "bt0bWe1evLtv"
      }
    },
    {
      "cell_type": "markdown",
      "source": [
        "**Answer1**:\n",
        "\n",
        "an int is an integer and a float has a decimal"
      ],
      "metadata": {
        "id": "FW3KHt4yvt90"
      }
    },
    {
      "cell_type": "markdown",
      "source": [
        "**Task2**:\n",
        "\n",
        "Describe the similarities and differences between: strings, lists, and dicts."
      ],
      "metadata": {
        "id": "mJ_i6he5wwgr"
      }
    },
    {
      "cell_type": "markdown",
      "source": [
        "**Answer2**:\n",
        "\n",
        "strings are \" and represent non-numerical data, lists are changable and can hold many different types of data, dicts store data pairs called items"
      ],
      "metadata": {
        "id": "iFu5BKyWw98T"
      }
    },
    {
      "cell_type": "markdown",
      "source": [
        "**Task3**:\n",
        "\n",
        "What is a numpy array? Why would we ever use one over a list or dict?"
      ],
      "metadata": {
        "id": "56v05s45yBHk"
      }
    },
    {
      "cell_type": "markdown",
      "source": [
        "**Answer3**:\n",
        "\n",
        "numpy arrays are similar to lists but they can handle matrix multiplication"
      ],
      "metadata": {
        "id": "eikgxyNzyLTY"
      }
    },
    {
      "cell_type": "markdown",
      "source": [
        "**Task4**:\n",
        "\n",
        "What is a pandas dataframe? Why would we ever want to use one over a numpy array?"
      ],
      "metadata": {
        "id": "RLaEQ5irywBl"
      }
    },
    {
      "cell_type": "markdown",
      "source": [
        "**Answer4**:\n",
        "\n",
        "they are similar to a numpy array but they frame data arounf columns"
      ],
      "metadata": {
        "id": "5IkNlzYpy-HP"
      }
    },
    {
      "cell_type": "markdown",
      "source": [
        "**Task5**:\n",
        "\n",
        "What are for loops, and why would we ever use them?"
      ],
      "metadata": {
        "id": "khRn2d7qz1Y2"
      }
    },
    {
      "cell_type": "markdown",
      "source": [
        "**Answer5**:\n",
        "\n",
        "for loops involve if statements and are used for when there is no built in method in a data frame"
      ],
      "metadata": {
        "id": "NAdVfRZB1d9J"
      }
    },
    {
      "cell_type": "markdown",
      "source": [
        "## Bonus: Faster Data Wrangling\n",
        "\n",
        "No, this is not extra credit. There will never be extra credit in this class. Only do these tasks if they sound fun, or to procrastinate on your other coursework."
      ],
      "metadata": {
        "id": "LQiruyOXZ5gx"
      }
    },
    {
      "cell_type": "markdown",
      "source": [
        "I mentioned in the notes that [polars](https://docs.pola.rs/user-guide/migration/pandas/#filtering) is a library that is just plain faster than pandas. I've never actually played with it myself, so I'm shifting that responsibility over to you."
      ],
      "metadata": {
        "id": "cgbgyZpiaVnE"
      }
    },
    {
      "cell_type": "markdown",
      "source": [
        "**Task6**\n",
        "\n",
        "Redo Task11 from the notes, but in polars."
      ],
      "metadata": {
        "id": "4EzSdSs7cUz0"
      }
    },
    {
      "cell_type": "markdown",
      "source": [
        "**Task7**\n",
        "\n",
        "Measure how much faster polars is at the Task11 operation than pandas."
      ],
      "metadata": {
        "id": "sRyQs8QLcfnM"
      }
    },
    {
      "cell_type": "markdown",
      "source": [
        "**Task8**:\n",
        "\n",
        "Explain, in detail, exactly why polars is faster than pandas. Is anything lost by making these changes? Is polars strictly better than pandas? If so, why would pandas exist in the first place?\n",
        "\n",
        "Remember, this is supposed to be fun. If it's not, stop and doing something else."
      ],
      "metadata": {
        "id": "zLdCWzvAdYGA"
      }
    }
  ]
}